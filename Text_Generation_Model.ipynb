{
  "nbformat": 4,
  "nbformat_minor": 0,
  "metadata": {
    "colab": {
      "provenance": [],
      "gpuType": "T4"
    },
    "kernelspec": {
      "name": "python3",
      "display_name": "Python 3"
    },
    "language_info": {
      "name": "python"
    },
    "accelerator": "GPU"
  },
  "cells": [
    {
      "cell_type": "code",
      "execution_count": 14,
      "metadata": {
        "id": "Kr4_yo56vIvH"
      },
      "outputs": [],
      "source": [
        "import torch\n",
        "import torch.nn as nn\n",
        "import torch.optim as optim\n",
        "\n",
        "import random"
      ]
    },
    {
      "cell_type": "code",
      "source": [
        "device = torch.device('cuda' if torch.cuda.is_available() else 'cpu')\n",
        "print(device)"
      ],
      "metadata": {
        "colab": {
          "base_uri": "https://localhost:8080/"
        },
        "id": "iT45zITgwGCC",
        "outputId": "1c729a3f-7588-4948-af55-f8842803de55"
      },
      "execution_count": 15,
      "outputs": [
        {
          "output_type": "stream",
          "name": "stdout",
          "text": [
            "cuda\n"
          ]
        }
      ]
    },
    {
      "cell_type": "code",
      "source": [
        "with open('shakespeare.txt', 'r') as f:\n",
        "  text = f.read().lower()[:5000000]"
      ],
      "metadata": {
        "id": "jxffMqujwfrp"
      },
      "execution_count": 16,
      "outputs": []
    },
    {
      "cell_type": "code",
      "source": [
        "chars = sorted(set(text))\n",
        "vocab_size = len(chars)"
      ],
      "metadata": {
        "id": "TxAqU2aaw3TH"
      },
      "execution_count": 17,
      "outputs": []
    },
    {
      "cell_type": "code",
      "source": [
        "char2idx = {c: i for i, c in enumerate(chars)}\n",
        "idx2char= {i: c for c, i in char2idx.items()}"
      ],
      "metadata": {
        "id": "tgnqm7K_xFS2"
      },
      "execution_count": 18,
      "outputs": []
    },
    {
      "cell_type": "code",
      "source": [
        "seq_length = 100\n",
        "step_size = 1\n",
        "data = [(text[i:i+seq_length], text[i+seq_length]) for i in range(0, len(text)-seq_length, step_size)]"
      ],
      "metadata": {
        "id": "yUjreCXrxU7I"
      },
      "execution_count": 19,
      "outputs": []
    },
    {
      "cell_type": "code",
      "source": [
        "X = torch.tensor([[char2idx[c] for c in seq] for seq, _ in data]).to(device)\n",
        "y = torch.tensor([char2idx[c] for _, c in data]).to(device)"
      ],
      "metadata": {
        "id": "t6w98XkMxp9V"
      },
      "execution_count": 20,
      "outputs": []
    },
    {
      "cell_type": "code",
      "source": [
        "class CharLSTM(nn.Module):\n",
        "  def __init__(self, vocab_size, hidden_size, num_layers=1):\n",
        "    super().__init__()\n",
        "    self.embed = nn.Embedding(vocab_size, hidden_size)\n",
        "    self.lstm = nn.LSTM(hidden_size, hidden_size, num_layers, batch_first=True)\n",
        "    self.fc = nn.Linear(hidden_size, vocab_size)\n",
        "\n",
        "  def forward(self, x, hidden=None):\n",
        "    x = self.embed(x)\n",
        "    out, hidden = self.lstm(x, hidden)\n",
        "    out = self.fc(out[:, -1, :]) # Shape: [batch_size, seq_length, hidden_size]\n",
        "\n",
        "    return out, hidden"
      ],
      "metadata": {
        "id": "TrP9WOtHymny"
      },
      "execution_count": 21,
      "outputs": []
    },
    {
      "cell_type": "code",
      "source": [
        "model = CharLSTM(vocab_size, hidden_size=256).to(device)\n",
        "optimizer=optim.Adam(model.parameters(), lr=0.0003)\n",
        "criterion = nn.CrossEntropyLoss()"
      ],
      "metadata": {
        "id": "r1EG3Y4V1wVB"
      },
      "execution_count": 22,
      "outputs": []
    },
    {
      "cell_type": "code",
      "source": [
        "for epoch in range(100):\n",
        "  model.train()\n",
        "  running_loss = 0.0\n",
        "\n",
        "  for i in range(0, len(X), 64):\n",
        "    x_batch = X[i:i+64].to(device)\n",
        "    y_batch = y[i:i+64].to(device)\n",
        "\n",
        "    if len(x_batch) == 0:\n",
        "      continue\n",
        "\n",
        "    optimizer.zero_grad()\n",
        "    output, _ = model(x_batch)\n",
        "    loss = criterion(output, y_batch)\n",
        "    loss.backward()\n",
        "    optimizer.step()\n",
        "\n",
        "    running_loss += loss.item()\n",
        "\n",
        "  print(f'Epoch {epoch+1}/100, Loss: {running_loss:.4f}')"
      ],
      "metadata": {
        "colab": {
          "base_uri": "https://localhost:8080/"
        },
        "id": "vKDHRwe72Cri",
        "outputId": "35457ffa-7b8b-4003-db2b-470bf0f89710"
      },
      "execution_count": 23,
      "outputs": [
        {
          "output_type": "stream",
          "name": "stdout",
          "text": [
            "Epoch 1/100, Loss: 3107.1121\n",
            "Epoch 2/100, Loss: 2634.8976\n",
            "Epoch 3/100, Loss: 2478.1724\n",
            "Epoch 4/100, Loss: 2376.0811\n",
            "Epoch 5/100, Loss: 2292.0871\n",
            "Epoch 6/100, Loss: 2220.3729\n",
            "Epoch 7/100, Loss: 2158.2235\n",
            "Epoch 8/100, Loss: 2105.1079\n",
            "Epoch 9/100, Loss: 2057.8063\n",
            "Epoch 10/100, Loss: 2014.0114\n",
            "Epoch 11/100, Loss: 1972.9485\n",
            "Epoch 12/100, Loss: 1934.6390\n",
            "Epoch 13/100, Loss: 1897.9055\n",
            "Epoch 14/100, Loss: 1863.4111\n",
            "Epoch 15/100, Loss: 1830.4877\n",
            "Epoch 16/100, Loss: 1797.7986\n",
            "Epoch 17/100, Loss: 1762.9170\n",
            "Epoch 18/100, Loss: 1728.2547\n",
            "Epoch 19/100, Loss: 1695.6287\n",
            "Epoch 20/100, Loss: 1661.9173\n",
            "Epoch 21/100, Loss: 1627.4396\n",
            "Epoch 22/100, Loss: 1594.2588\n",
            "Epoch 23/100, Loss: 1560.5650\n",
            "Epoch 24/100, Loss: 1527.5967\n",
            "Epoch 25/100, Loss: 1494.4548\n",
            "Epoch 26/100, Loss: 1460.3943\n",
            "Epoch 27/100, Loss: 1426.4731\n",
            "Epoch 28/100, Loss: 1392.8461\n",
            "Epoch 29/100, Loss: 1359.8488\n",
            "Epoch 30/100, Loss: 1327.0130\n",
            "Epoch 31/100, Loss: 1293.1141\n",
            "Epoch 32/100, Loss: 1262.3626\n",
            "Epoch 33/100, Loss: 1230.3378\n",
            "Epoch 34/100, Loss: 1199.2115\n",
            "Epoch 35/100, Loss: 1171.6365\n",
            "Epoch 36/100, Loss: 1139.2781\n",
            "Epoch 37/100, Loss: 1110.4693\n",
            "Epoch 38/100, Loss: 1086.6202\n",
            "Epoch 39/100, Loss: 1060.3070\n",
            "Epoch 40/100, Loss: 1035.6739\n",
            "Epoch 41/100, Loss: 1012.0979\n",
            "Epoch 42/100, Loss: 985.5420\n",
            "Epoch 43/100, Loss: 963.7108\n",
            "Epoch 44/100, Loss: 942.8987\n",
            "Epoch 45/100, Loss: 923.7054\n",
            "Epoch 46/100, Loss: 903.9113\n",
            "Epoch 47/100, Loss: 888.2892\n",
            "Epoch 48/100, Loss: 872.1817\n",
            "Epoch 49/100, Loss: 852.1340\n",
            "Epoch 50/100, Loss: 833.1779\n",
            "Epoch 51/100, Loss: 819.7014\n",
            "Epoch 52/100, Loss: 805.0284\n",
            "Epoch 53/100, Loss: 791.5019\n",
            "Epoch 54/100, Loss: 776.4621\n",
            "Epoch 55/100, Loss: 767.8108\n",
            "Epoch 56/100, Loss: 750.4701\n",
            "Epoch 57/100, Loss: 737.2328\n",
            "Epoch 58/100, Loss: 725.4541\n",
            "Epoch 59/100, Loss: 707.7886\n",
            "Epoch 60/100, Loss: 706.9758\n",
            "Epoch 61/100, Loss: 689.9423\n",
            "Epoch 62/100, Loss: 679.0871\n",
            "Epoch 63/100, Loss: 672.7492\n",
            "Epoch 64/100, Loss: 659.7021\n",
            "Epoch 65/100, Loss: 646.7145\n",
            "Epoch 66/100, Loss: 642.4617\n",
            "Epoch 67/100, Loss: 626.0389\n",
            "Epoch 68/100, Loss: 626.0364\n",
            "Epoch 69/100, Loss: 627.9868\n",
            "Epoch 70/100, Loss: 603.6421\n",
            "Epoch 71/100, Loss: 590.4380\n",
            "Epoch 72/100, Loss: 597.3084\n",
            "Epoch 73/100, Loss: 581.5373\n",
            "Epoch 74/100, Loss: 571.4107\n",
            "Epoch 75/100, Loss: 570.7598\n",
            "Epoch 76/100, Loss: 562.4279\n",
            "Epoch 77/100, Loss: 551.4907\n",
            "Epoch 78/100, Loss: 547.2852\n",
            "Epoch 79/100, Loss: 537.6311\n",
            "Epoch 80/100, Loss: 528.2562\n",
            "Epoch 81/100, Loss: 536.8417\n",
            "Epoch 82/100, Loss: 513.1204\n",
            "Epoch 83/100, Loss: 516.9896\n",
            "Epoch 84/100, Loss: 500.9031\n",
            "Epoch 85/100, Loss: 498.9064\n",
            "Epoch 86/100, Loss: 485.4719\n",
            "Epoch 87/100, Loss: 486.3539\n",
            "Epoch 88/100, Loss: 490.8507\n",
            "Epoch 89/100, Loss: 486.5158\n",
            "Epoch 90/100, Loss: 482.0499\n",
            "Epoch 91/100, Loss: 468.2247\n",
            "Epoch 92/100, Loss: 457.6405\n",
            "Epoch 93/100, Loss: 454.5948\n",
            "Epoch 94/100, Loss: 463.5497\n",
            "Epoch 95/100, Loss: 455.2992\n",
            "Epoch 96/100, Loss: 430.2498\n",
            "Epoch 97/100, Loss: 440.0984\n",
            "Epoch 98/100, Loss: 433.4457\n",
            "Epoch 99/100, Loss: 433.1883\n",
            "Epoch 100/100, Loss: 414.9552\n"
          ]
        }
      ]
    },
    {
      "cell_type": "code",
      "source": [
        "def generate_text(model, start_seq, length=200):\n",
        "  model.eval()\n",
        "\n",
        "  input_seq = torch.tensor([[char2idx[c] for c in start_seq]]).to(device)\n",
        "  hidden = None\n",
        "\n",
        "  result = start_seq\n",
        "\n",
        "  for _ in range(length):\n",
        "    output, hidden = model(input_seq, hidden)\n",
        "    probs = torch.softmax(output, dim=-1).squeeze()\n",
        "    next_idx = torch.multinomial(probs, 1).item()\n",
        "    next_char = idx2char[next_idx]\n",
        "\n",
        "    result += next_char\n",
        "    input_seq = torch.tensor([[next_idx]]).to(device)\n",
        "\n",
        "  return result"
      ],
      "metadata": {
        "id": "YmpqT1g72tyN"
      },
      "execution_count": 24,
      "outputs": []
    },
    {
      "cell_type": "code",
      "source": [
        "print(generate_text(model, 'he was going with'))\n",
        "print('-'*100)\n",
        "print(generate_text(model, 'why is it'))\n",
        "print('-'*100)\n",
        "print(generate_text(model, 'we must all'))"
      ],
      "metadata": {
        "colab": {
          "base_uri": "https://localhost:8080/"
        },
        "id": "jBcPtH9b3zcb",
        "outputId": "c8999222-36a4-42b1-9993-db1a78c9a929"
      },
      "execution_count": 25,
      "outputs": [
        {
          "output_type": "stream",
          "name": "stdout",
          "text": [
            "he was going with thought,\n",
            "i enjuning thy sweet love love beed\n",
            "at realous that grieves antique pen with friends but not\n",
            "his purge as the state the world enmort:  \n",
            "or if they her to thing i do fier's eye,\n",
            "that by old e\n",
            "----------------------------------------------------------------------------------------------------\n",
            "why is it?\n",
            "which home like her feel friend hand deceed?\n",
            "in eternixered chested,\n",
            "thy beauty my self to pain,\n",
            "whilst my noble poor name, nor despise now to be remove.\n",
            "were it but is my lovers worth herst bearing\n",
            "----------------------------------------------------------------------------------------------------\n",
            "we must all bind.\n",
            "\n",
            "\n",
            "\n",
            "loved in thy beauty's fool i do change,\n",
            "thy blind smald travail that hadd still we ad?\n",
            "he rany headd what thy sweet winter's day\n",
            "and she is not for my side,\n",
            "or frail i chide the wide was ple\n"
          ]
        }
      ]
    },
    {
      "cell_type": "code",
      "source": [
        "torch.save(model.state_dict(), 'char_lstm_model.pth')"
      ],
      "metadata": {
        "id": "62QzSg2c3_R9"
      },
      "execution_count": 26,
      "outputs": []
    }
  ]
}